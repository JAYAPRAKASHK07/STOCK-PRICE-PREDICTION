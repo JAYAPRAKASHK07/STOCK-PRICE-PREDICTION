import numpy as np
import pandas as pd
import matplotlib.pyplot as plt
import yfinance as yf
from sklearn.preprocessing import MinMaxScaler
from keras.models import Sequential
from keras.layers import Dense, LSTM, Dropout
from sklearn.metrics import mean_squared_error

# Downloading data
start = '2012-01-01'
end = '2024-02-26'
stock = 'TCS.NS'

data = yf.download(stock, start, end)
data.reset_index(inplace=True)

# Moving averages
ma_100_days = data.Close.rolling(100).mean()
ma_200_days = data.Close.rolling(200).mean()

# Data splitting
data.dropna(inplace=True)
train_size = int(len(data) * 0.80)
data_train = data.Close.values[:train_size].reshape(-1, 1)
data_test = data.Close.values[train_size:].reshape(-1, 1)

# Scaling data
scaler = MinMaxScaler(feature_range=(0, 1))
data_train_scale = scaler.fit_transform(data_train)
data_test_scale = scaler.transform(data_test)

# Preparing training and testing data
def prepare_data(data, window_size):
    x, y = [], []
    for i in range(window_size, len(data)):
        x.append(data[i - window_size:i, 0])
        y.append(data[i, 0])
    return np.array(x), np.array(y)

window_size = 100
x_train, y_train = prepare_data(data_train_scale, window_size)
x_test, y_test = prepare_data(data_test_scale, window_size)

# Reshaping data for LSTM
x_train = np.reshape(x_train, (x_train.shape[0], x_train.shape[1], 1))
x_test = np.reshape(x_test, (x_test.shape[0], x_test.shape[1], 1))

# Building the LSTM model
model = Sequential([
    LSTM(units=50, return_sequences=True, input_shape=(x_train.shape[1], 1)),
    Dropout(0.2),
    LSTM(units=60, return_sequences=True),
    Dropout(0.3),
    LSTM(units=80, return_sequences=True),
    Dropout(0.4),
    LSTM(units=120),
    Dropout(0.5),
    Dense(units=1)
])

model.compile(optimizer='adam', loss='mean_squared_error')

# Training the model
model.fit(x_train, y_train, epochs=50, batch_size=32, verbose=1)

# Making predictions
train_predict = model.predict(x_train)
test_predict = model.predict(x_test)

# Inverse scaling
train_predict = scaler.inverse_transform(train_predict)
y_train = scaler.inverse_transform([y_train])
test_predict = scaler.inverse_transform(test_predict)
y_test = scaler.inverse_transform([y_test])

# Model evaluation
train_score = mean_squared_error(y_train[0], train_predict[:, 0])
test_score = mean_squared_error(y_test[0], test_predict[:, 0])

print('Train Score: {:.2f} MSE'.format(train_score))
print('Test Score: {:.2f} MSE'.format(test_score))

# Plotting results
plt.figure(figsize=(10, 6))
plt.plot(data.index[window_size:train_size], train_predict, 'r', label='Train Predictions')
plt.plot(data.index[train_size+window_size:], test_predict, 'b', label='Test Predictions')
plt.plot(data.index, data.Close, 'g', label='Actual Prices')
plt.legend()
plt.show()
model.save('Stock Predictions Model 2025.keras')
